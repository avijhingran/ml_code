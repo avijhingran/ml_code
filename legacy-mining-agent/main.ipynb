{
  "nbformat": 4,
  "nbformat_minor": 0,
  "metadata": {
    "colab": {
      "provenance": [],
      "authorship_tag": "ABX9TyNq+Tm8qupocUBFOA0c3Y7v"
    },
    "kernelspec": {
      "name": "python3",
      "display_name": "Python 3"
    },
    "language_info": {
      "name": "python"
    }
  },
  "cells": [
    {
      "cell_type": "code",
      "execution_count": null,
      "metadata": {
        "id": "h9jdiirUxAj_"
      },
      "outputs": [],
      "source": [
        "# Clean up any previous clone\n",
        "!rm -rf ml_code\n",
        "\n",
        "# Install required packages\n",
        "!pip install -q python-docx openai\n",
        "\n",
        "# Set OpenRouter API Key\n",
        "import os\n",
        "os.environ[\"OPENROUTER_API_KEY\"] = \"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\"\n",
        "\n",
        "# Clone your GitHub repo\n",
        "!git clone https://github.com/avijhingran/ml_code.git\n",
        "\n",
        "# Add project to Python path\n",
        "import sys\n",
        "sys.path.append(\"/content/ml_code/legacy-mining-agent\")\n",
        "\n",
        "# Extract ZIP manually using Python stdlib\n",
        "import zipfile\n",
        "zip_path = \"/content/ml_code/legacy-mining-agent/sample_data/legacy_project.zip\"\n",
        "with zipfile.ZipFile(zip_path, 'r') as zip_ref:\n",
        "    zip_ref.extractall(\"legacy_project\")\n",
        "print(\"ZIP extracted to: legacy_project\")\n",
        "\n",
        "# Analyze and generate Word docs\n",
        "from src.analyzer import analyze_all_files\n",
        "from src.doc_writer import save_reports\n",
        "\n",
        "results = analyze_all_files(\"legacy_project\")\n",
        "save_reports(results, \"output\")\n",
        "\n",
        "# Package and download reports\n",
        "import shutil\n",
        "from google.colab import files\n",
        "\n",
        "shutil.make_archive(\"legacy_output\", 'zip', \"output\")\n",
        "files.download(\"legacy_output.zip\")"
      ]
    }
  ]
}