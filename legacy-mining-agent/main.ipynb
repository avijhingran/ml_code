import os
from src.extractor import extract_zip
from src.analyzer import analyze_all_files
from src.doc_writer import save_reports

zip_url = input("Enter URL to legacy project ZIP: ")
extract_zip(zip_url, "legacy_project")
results = analyze_all_files("legacy_project")
save_reports(results, "output")
print("Analysis complete. Download the output folder.")
