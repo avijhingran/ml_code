{
  "nbformat": 4,
  "nbformat_minor": 0,
  "metadata": {
    "colab": {
      "provenance": [],
      "authorship_tag": "ABX9TyOkLyW6PKC5YvrG+zgxqxKj"
    },
    "kernelspec": {
      "name": "python3",
      "display_name": "Python 3"
    },
    "language_info": {
      "name": "python"
    }
  },
  "cells": [
    {
      "cell_type": "code",
      "execution_count": null,
      "metadata": {
        "id": "h9jdiirUxAj_"
      },
      "outputs": [],
      "source": [
        "# Clean up any previous clone\n",
        "!rm -rf ml_code\n",
        "\n",
        "# Install required packages\n",
        "!pip install -q python-docx openai\n",
        "\n",
        "# Set OpenRouter API Key\n",
        "import os\n",
        "os.environ[\"OPENROUTER_API_KEY\"] = \"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\"\n",
        "\n",
        "# Clone your GitHub repo\n",
        "!git clone https://github.com/avijhingran/ml_code.git\n",
        "\n",
        "# Add project to Python path\n",
        "import sys\n",
        "sys.path.append(\"/content/ml_code/legacy-mining-agent\")\n",
        "\n",
        "# Extract ZIP manually using Python stdlib\n",
        "import zipfile\n",
        "zip_path = \"/content/ml_code/legacy-mining-agent/sample_data/legacy_project.zip\"\n",
        "with zipfile.ZipFile(zip_path, 'r') as zip_ref:\n",
        "    zip_ref.extractall(\"legacy_project\")\n",
        "print(\"ZIP extracted to: legacy_project\")\n",
        "\n",
        "# Agentic analysis using planning loop\n",
        "from src.agent_loop import run_agent_loop\n",
        "run_agent_loop(\"legacy_project\", output_dir=\"output\", model=\"openchat/openchat-7b\")\n",
        "\n",
        "# Package and download reports\n",
        "import shutil\n",
        "shutil.make_archive(\n",
        "    \"/content/ml_code/legacy-mining-agent/output/legacy_output\",  # target zip path (no .zip extension)\n",
        "    'zip',\n",
        "    \"output\"  # source directory to zip\n",
        ")\n",
        "print(\"Zipped report created at: legacy_output.zip\")\n"
      ]
    }
  ]
}