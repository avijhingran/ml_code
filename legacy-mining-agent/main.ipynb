{
  "nbformat": 4,
  "nbformat_minor": 0,
  "metadata": {
    "colab": {
      "provenance": [],
      "authorship_tag": "ABX9TyNtpE5/NaOEiPwcKcPaGS8i"
    },
    "kernelspec": {
      "name": "python3",
      "display_name": "Python 3"
    },
    "language_info": {
      "name": "python"
    }
  },
  "cells": [
    {
      "cell_type": "code",
      "execution_count": null,
      "metadata": {
        "id": "h9jdiirUxAj_"
      },
      "outputs": [],
      "source": [
        "import os\n",
        "os.environ[\"OPENROUTER_API_KEY\"] = \"sk-...\"\n",
        "\n",
        "from src.extractor import extract_zip\n",
        "from src.analyzer import analyze_all_files\n",
        "from src.doc_writer import save_reports\n",
        "\n",
        "zip_url = input(\"Enter URL to legacy project ZIP: \")\n",
        "extract_zip(zip_url, \"legacy_project\")\n",
        "results = analyze_all_files(\"legacy_project\")\n",
        "save_reports(results, \"output\")\n",
        "print(\"Analysis complete. Download the output folder.\")"
      ]
    }
  ]
}