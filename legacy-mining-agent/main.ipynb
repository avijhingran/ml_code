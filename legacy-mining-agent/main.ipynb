import os

os.environ["OPENROUTER_API_KEY"] = "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"

from src.extractor import extract_zip
from src.analyzer import analyze_all_files
from src.doc_writer import save_reports

zip_url = input("Enter URL to legacy project ZIP: ")
extract_zip(zip_url, "legacy_project")
results = analyze_all_files("legacy_project")
save_reports(results, "output")
print("Analysis complete. Download the output folder.")
