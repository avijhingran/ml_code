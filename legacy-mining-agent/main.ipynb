{
  "nbformat": 4,
  "nbformat_minor": 0,
  "metadata": {
    "colab": {
      "provenance": [],
      "authorship_tag": "ABX9TyOXIl90xdxvxNmqld3CiyKa"
    },
    "kernelspec": {
      "name": "python3",
      "display_name": "Python 3"
    },
    "language_info": {
      "name": "python"
    }
  },
  "cells": [
    {
      "cell_type": "code",
      "execution_count": null,
      "metadata": {
        "id": "h9jdiirUxAj_"
      },
      "outputs": [],
      "source": [
        "# Clean up any previous clone\n",
        "!rm -rf ml_code\n",
        "\n",
        "# Install required packages\n",
        "!pip install -q python-docx openai\n",
        "\n",
        "# Set OpenRouter API Key\n",
        "import os\n",
        "os.environ[\"OPENROUTER_API_KEY\"] = \"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\"\n",
        "\n",
        "# Clone your GitHub repo\n",
        "!git clone https://github.com/avijhingran/ml_code.git\n",
        "\n",
        "# Add project to Python path\n",
        "import sys\n",
        "sys.path.append(\"/content/ml_code/legacy-mining-agent\")\n",
        "\n",
        "# Extract legacy_project.zip\n",
        "from src.extractor import extract_zip\n",
        "zip_path = \"/content/ml_code/legacy-mining-agent/sample_data/legacy_project.zip\"\n",
        "extract_zip(zip_path, \"legacy_project\")\n",
        "\n",
        "# Analyze and generate Word docs\n",
        "from src.analyzer import analyze_all_files\n",
        "from src.doc_writer import save_reports\n",
        "\n",
        "results = analyze_all_files(\"legacy_project\")\n",
        "save_reports(results, \"output\")\n",
        "\n",
        "# Package and download reports\n",
        "import shutil\n",
        "from google.colab import files\n",
        "\n",
        "shutil.make_archive(\"legacy_output\", 'zip', \"output\")\n",
        "files.download(\"legacy_output.zip\")"
      ]
    }
  ]
}